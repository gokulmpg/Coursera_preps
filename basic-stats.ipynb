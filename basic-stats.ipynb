{
 "cells": [
  {
   "cell_type": "code",
   "execution_count": 1,
   "id": "95e73bd8",
   "metadata": {
    "_cell_guid": "b1076dfc-b9ad-4769-8c92-a6c4dae69d19",
    "_uuid": "8f2839f25d086af736a60e9eeb907d3b93b6e0e5",
    "execution": {
     "iopub.execute_input": "2024-01-29T14:15:46.827591Z",
     "iopub.status.busy": "2024-01-29T14:15:46.827055Z",
     "iopub.status.idle": "2024-01-29T14:15:47.794238Z",
     "shell.execute_reply": "2024-01-29T14:15:47.792931Z"
    },
    "papermill": {
     "duration": 0.977892,
     "end_time": "2024-01-29T14:15:47.797225",
     "exception": false,
     "start_time": "2024-01-29T14:15:46.819333",
     "status": "completed"
    },
    "tags": []
   },
   "outputs": [
    {
     "name": "stdout",
     "output_type": "stream",
     "text": [
      "/kaggle/input/iris/Iris.csv\n",
      "/kaggle/input/iris/database.sqlite\n"
     ]
    }
   ],
   "source": [
    "# This Python 3 environment comes with many helpful analytics libraries installed\n",
    "# It is defined by the kaggle/python Docker image: https://github.com/kaggle/docker-python\n",
    "# For example, here's several helpful packages to load\n",
    "\n",
    "import numpy as np # linear algebra\n",
    "import pandas as pd # data processing, CSV file I/O (e.g. pd.read_csv)\n",
    "\n",
    "# Input data files are available in the read-only \"../input/\" directory\n",
    "# For example, running this (by clicking run or pressing Shift+Enter) will list all files under the input directory\n",
    "\n",
    "import os\n",
    "for dirname, _, filenames in os.walk('/kaggle/input'):\n",
    "    for filename in filenames:\n",
    "        print(os.path.join(dirname, filename))\n",
    "\n",
    "# You can write up to 20GB to the current directory (/kaggle/working/) that gets preserved as output when you create a version using \"Save & Run All\" \n",
    "# You can also write temporary files to /kaggle/temp/, but they won't be saved outside of the current session"
   ]
  },
  {
   "cell_type": "code",
   "execution_count": 2,
   "id": "c7cd4639",
   "metadata": {
    "execution": {
     "iopub.execute_input": "2024-01-29T14:15:47.810254Z",
     "iopub.status.busy": "2024-01-29T14:15:47.809692Z",
     "iopub.status.idle": "2024-01-29T14:15:47.829273Z",
     "shell.execute_reply": "2024-01-29T14:15:47.828077Z"
    },
    "papermill": {
     "duration": 0.029449,
     "end_time": "2024-01-29T14:15:47.832127",
     "exception": false,
     "start_time": "2024-01-29T14:15:47.802678",
     "status": "completed"
    },
    "tags": []
   },
   "outputs": [],
   "source": [
    "data = pd.read_csv('/kaggle/input/iris/Iris.csv')"
   ]
  },
  {
   "cell_type": "markdown",
   "id": "829f9677",
   "metadata": {
    "papermill": {
     "duration": 0.00526,
     "end_time": "2024-01-29T14:15:47.843476",
     "exception": false,
     "start_time": "2024-01-29T14:15:47.838216",
     "status": "completed"
    },
    "tags": []
   },
   "source": [
    "## Basic Statistics\n",
    "\n",
    "### Analysing the data to understand insights\n",
    "\n",
    "\n",
    "Variables and cases\n",
    "\n",
    "\n",
    "Characteristics of football players --> cases\n",
    "\n",
    "1. Body weight \n",
    "2. hair colour\n",
    "3. age\n",
    "4. goal\n",
    "\n",
    "\n",
    "Characteriestics of Team --> cases\n",
    "1. country\n",
    "2. color\n",
    "3. Goals\n",
    "\n"
   ]
  },
  {
   "cell_type": "markdown",
   "id": "18521840",
   "metadata": {
    "papermill": {
     "duration": 0.004746,
     "end_time": "2024-01-29T14:15:47.853311",
     "exception": false,
     "start_time": "2024-01-29T14:15:47.848565",
     "status": "completed"
    },
    "tags": []
   },
   "source": [
    "##### Variable should vary!!\n",
    "\n",
    "Categorial --> Ordinal & Nominal\n",
    "\n",
    "Quantitative --> Interval & Ratio\n",
    "\n",
    "Quantitative --> Discrete and Continous\n",
    "\n",
    "Data matrix as the summaries of data..\n"
   ]
  },
  {
   "cell_type": "code",
   "execution_count": 3,
   "id": "808ed637",
   "metadata": {
    "execution": {
     "iopub.execute_input": "2024-01-29T14:15:47.865152Z",
     "iopub.status.busy": "2024-01-29T14:15:47.864764Z",
     "iopub.status.idle": "2024-01-29T14:15:47.880691Z",
     "shell.execute_reply": "2024-01-29T14:15:47.879482Z"
    },
    "papermill": {
     "duration": 0.024831,
     "end_time": "2024-01-29T14:15:47.883135",
     "exception": false,
     "start_time": "2024-01-29T14:15:47.858304",
     "status": "completed"
    },
    "tags": []
   },
   "outputs": [
    {
     "data": {
      "text/plain": [
       "0         Iris-setosa\n",
       "1         Iris-setosa\n",
       "2         Iris-setosa\n",
       "3         Iris-setosa\n",
       "4         Iris-setosa\n",
       "            ...      \n",
       "145    Iris-virginica\n",
       "146    Iris-virginica\n",
       "147    Iris-virginica\n",
       "148    Iris-virginica\n",
       "149    Iris-virginica\n",
       "Name: Species, Length: 150, dtype: object"
      ]
     },
     "execution_count": 3,
     "metadata": {},
     "output_type": "execute_result"
    }
   ],
   "source": [
    "data['Species']  # Categorical"
   ]
  },
  {
   "cell_type": "code",
   "execution_count": 4,
   "id": "607e9327",
   "metadata": {
    "execution": {
     "iopub.execute_input": "2024-01-29T14:15:47.895757Z",
     "iopub.status.busy": "2024-01-29T14:15:47.894827Z",
     "iopub.status.idle": "2024-01-29T14:15:47.907111Z",
     "shell.execute_reply": "2024-01-29T14:15:47.905929Z"
    },
    "papermill": {
     "duration": 0.021668,
     "end_time": "2024-01-29T14:15:47.909996",
     "exception": false,
     "start_time": "2024-01-29T14:15:47.888328",
     "status": "completed"
    },
    "tags": []
   },
   "outputs": [
    {
     "data": {
      "text/plain": [
       "0      1.4\n",
       "1      1.4\n",
       "2      1.3\n",
       "3      1.5\n",
       "4      1.4\n",
       "      ... \n",
       "145    5.2\n",
       "146    5.0\n",
       "147    5.2\n",
       "148    5.4\n",
       "149    5.1\n",
       "Name: PetalLengthCm, Length: 150, dtype: float64"
      ]
     },
     "execution_count": 4,
     "metadata": {},
     "output_type": "execute_result"
    }
   ],
   "source": [
    "data['PetalLengthCm'] # Numerical"
   ]
  },
  {
   "cell_type": "markdown",
   "id": "c67c5443",
   "metadata": {
    "papermill": {
     "duration": 0.005211,
     "end_time": "2024-01-29T14:15:47.921698",
     "exception": false,
     "start_time": "2024-01-29T14:15:47.916487",
     "status": "completed"
    },
    "tags": []
   },
   "source": [
    "##### Frequency tables\n",
    "It shows how the value are distributed\n",
    "\n",
    "\n"
   ]
  },
  {
   "cell_type": "code",
   "execution_count": 5,
   "id": "997d21e7",
   "metadata": {
    "execution": {
     "iopub.execute_input": "2024-01-29T14:15:47.934751Z",
     "iopub.status.busy": "2024-01-29T14:15:47.933929Z",
     "iopub.status.idle": "2024-01-29T14:15:47.948345Z",
     "shell.execute_reply": "2024-01-29T14:15:47.947175Z"
    },
    "papermill": {
     "duration": 0.02408,
     "end_time": "2024-01-29T14:15:47.951127",
     "exception": false,
     "start_time": "2024-01-29T14:15:47.927047",
     "status": "completed"
    },
    "tags": []
   },
   "outputs": [
    {
     "name": "stdout",
     "output_type": "stream",
     "text": [
      "Species\n",
      "Iris-setosa        50\n",
      "Iris-versicolor    50\n",
      "Iris-virginica     50\n",
      "Name: count, dtype: int64\n"
     ]
    }
   ],
   "source": [
    "\n",
    "df = data['Species'].value_counts() \n",
    "print(df) \n"
   ]
  },
  {
   "cell_type": "code",
   "execution_count": 6,
   "id": "3404bf87",
   "metadata": {
    "execution": {
     "iopub.execute_input": "2024-01-29T14:15:47.964667Z",
     "iopub.status.busy": "2024-01-29T14:15:47.964195Z",
     "iopub.status.idle": "2024-01-29T14:15:48.003742Z",
     "shell.execute_reply": "2024-01-29T14:15:48.002410Z"
    },
    "papermill": {
     "duration": 0.049758,
     "end_time": "2024-01-29T14:15:48.006413",
     "exception": false,
     "start_time": "2024-01-29T14:15:47.956655",
     "status": "completed"
    },
    "tags": []
   },
   "outputs": [
    {
     "data": {
      "text/html": [
       "<div>\n",
       "<style scoped>\n",
       "    .dataframe tbody tr th:only-of-type {\n",
       "        vertical-align: middle;\n",
       "    }\n",
       "\n",
       "    .dataframe tbody tr th {\n",
       "        vertical-align: top;\n",
       "    }\n",
       "\n",
       "    .dataframe thead th {\n",
       "        text-align: right;\n",
       "    }\n",
       "</style>\n",
       "<table border=\"1\" class=\"dataframe\">\n",
       "  <thead>\n",
       "    <tr style=\"text-align: right;\">\n",
       "      <th>col_0</th>\n",
       "      <th>no_of_species</th>\n",
       "    </tr>\n",
       "    <tr>\n",
       "      <th>Species</th>\n",
       "      <th></th>\n",
       "    </tr>\n",
       "  </thead>\n",
       "  <tbody>\n",
       "    <tr>\n",
       "      <th>Iris-setosa</th>\n",
       "      <td>50</td>\n",
       "    </tr>\n",
       "    <tr>\n",
       "      <th>Iris-versicolor</th>\n",
       "      <td>50</td>\n",
       "    </tr>\n",
       "    <tr>\n",
       "      <th>Iris-virginica</th>\n",
       "      <td>50</td>\n",
       "    </tr>\n",
       "  </tbody>\n",
       "</table>\n",
       "</div>"
      ],
      "text/plain": [
       "col_0            no_of_species\n",
       "Species                       \n",
       "Iris-setosa                 50\n",
       "Iris-versicolor             50\n",
       "Iris-virginica              50"
      ]
     },
     "execution_count": 6,
     "metadata": {},
     "output_type": "execute_result"
    }
   ],
   "source": [
    "\n",
    "freq_table = pd.crosstab(data['Species'], 'no_of_species') \n",
    "\n",
    "freq_table \n"
   ]
  },
  {
   "cell_type": "markdown",
   "id": "9b02d138",
   "metadata": {
    "papermill": {
     "duration": 0.005493,
     "end_time": "2024-01-29T14:15:48.017890",
     "exception": false,
     "start_time": "2024-01-29T14:15:48.012397",
     "status": "completed"
    },
    "tags": []
   },
   "source": [
    "Pie chart - Nominal or Ordinal\n",
    "\n",
    "\n",
    "Bar chart -  Nominal or Ordinal\n",
    "\n",
    "\n",
    "Dot plot - Quantitative\n",
    "\n",
    "\n",
    "Histogram - Interval or Ratio\n"
   ]
  },
  {
   "cell_type": "markdown",
   "id": "635e7852",
   "metadata": {
    "papermill": {
     "duration": 0.005357,
     "end_time": "2024-01-29T14:15:48.028979",
     "exception": false,
     "start_time": "2024-01-29T14:15:48.023622",
     "status": "completed"
    },
    "tags": []
   },
   "source": [
    "##### Measure of Central dentency\n",
    "\n",
    "1. Median,-- Quantitative with Outliers or Skewed\n",
    "\n",
    "2. Mode, -- Categorical\n",
    "\n",
    "3. Mean, -- Quantitative with Bell curve\n",
    "\n",
    "##### Measure of dispersion\n",
    " \n",
    "Range, -- Maximum - Minimum\n",
    "\n",
    "IQR, -- Q3 - Q1      Outlier = Q1 or Q3 (+ or _) 1.5 IQR\n",
    "\n",
    "###### takes all values into account\n",
    "\n",
    "Variance, --     (x - x~ ) 2 / n-1   --> larger the variance larger the variablity\n",
    "\n",
    "Standard deviation, --  Sq. Root of ((x - x~ ) 2 / n-1)  --> often used measure of dispersion"
   ]
  },
  {
   "cell_type": "code",
   "execution_count": null,
   "id": "6ce720f3",
   "metadata": {
    "papermill": {
     "duration": 0.005593,
     "end_time": "2024-01-29T14:15:48.040764",
     "exception": false,
     "start_time": "2024-01-29T14:15:48.035171",
     "status": "completed"
    },
    "tags": []
   },
   "outputs": [],
   "source": []
  },
  {
   "cell_type": "markdown",
   "id": "2ed51c41",
   "metadata": {
    "papermill": {
     "duration": 0.005539,
     "end_time": "2024-01-29T14:15:48.052707",
     "exception": false,
     "start_time": "2024-01-29T14:15:48.047168",
     "status": "completed"
    },
    "tags": []
   },
   "source": [
    "##### Z Score - gives idea if an event is common or exceptional\n",
    "\n",
    "###### Z = x - x~  / SD\n",
    "\n",
    "1. -ve z score reprents below the mean\n",
    "2. +ve z score Above the mean\n",
    "\n",
    "Normal distribution - Z scores are 68% -1 or +1...   95% -2 to +2  and  99% -3 to +3 \n",
    "\n",
    "Skewed Right - large Positive Z scores are common\n",
    "\n",
    "Skewed Left - large Negative Z scores are common\n",
    "\n",
    "\n",
    "Z score of -1 to 1 = 75%\n",
    "\n",
    "Z score of -2 to +2 = 90%\n",
    "\n",
    "\n",
    "\n",
    "##### Standardization:\n",
    "\n",
    "Replacing the orihinal scores with SD from the mean.."
   ]
  },
  {
   "cell_type": "code",
   "execution_count": null,
   "id": "77234854",
   "metadata": {
    "papermill": {
     "duration": 0.005606,
     "end_time": "2024-01-29T14:15:48.064965",
     "exception": false,
     "start_time": "2024-01-29T14:15:48.059359",
     "status": "completed"
    },
    "tags": []
   },
   "outputs": [],
   "source": []
  }
 ],
 "metadata": {
  "kaggle": {
   "accelerator": "none",
   "dataSources": [
    {
     "datasetId": 19,
     "sourceId": 420,
     "sourceType": "datasetVersion"
    }
   ],
   "dockerImageVersionId": 30635,
   "isGpuEnabled": false,
   "isInternetEnabled": true,
   "language": "python",
   "sourceType": "notebook"
  },
  "kernelspec": {
   "display_name": "Python 3",
   "language": "python",
   "name": "python3"
  },
  "language_info": {
   "codemirror_mode": {
    "name": "ipython",
    "version": 3
   },
   "file_extension": ".py",
   "mimetype": "text/x-python",
   "name": "python",
   "nbconvert_exporter": "python",
   "pygments_lexer": "ipython3",
   "version": "3.10.12"
  },
  "papermill": {
   "default_parameters": {},
   "duration": 6.80949,
   "end_time": "2024-01-29T14:15:48.592155",
   "environment_variables": {},
   "exception": null,
   "input_path": "__notebook__.ipynb",
   "output_path": "__notebook__.ipynb",
   "parameters": {},
   "start_time": "2024-01-29T14:15:41.782665",
   "version": "2.4.0"
  }
 },
 "nbformat": 4,
 "nbformat_minor": 5
}
