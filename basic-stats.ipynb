{
 "cells": [
  {
   "cell_type": "code",
   "execution_count": 1,
   "id": "f33d1de3",
   "metadata": {
    "_cell_guid": "b1076dfc-b9ad-4769-8c92-a6c4dae69d19",
    "_uuid": "8f2839f25d086af736a60e9eeb907d3b93b6e0e5",
    "execution": {
     "iopub.execute_input": "2024-01-30T12:08:00.451824Z",
     "iopub.status.busy": "2024-01-30T12:08:00.451052Z",
     "iopub.status.idle": "2024-01-30T12:08:01.259955Z",
     "shell.execute_reply": "2024-01-30T12:08:01.258715Z"
    },
    "papermill": {
     "duration": 0.822483,
     "end_time": "2024-01-30T12:08:01.263832",
     "exception": false,
     "start_time": "2024-01-30T12:08:00.441349",
     "status": "completed"
    },
    "tags": []
   },
   "outputs": [
    {
     "name": "stdout",
     "output_type": "stream",
     "text": [
      "/kaggle/input/iris/Iris.csv\n",
      "/kaggle/input/iris/database.sqlite\n"
     ]
    }
   ],
   "source": [
    "# This Python 3 environment comes with many helpful analytics libraries installed\n",
    "# It is defined by the kaggle/python Docker image: https://github.com/kaggle/docker-python\n",
    "# For example, here's several helpful packages to load\n",
    "\n",
    "import numpy as np # linear algebra\n",
    "import pandas as pd # data processing, CSV file I/O (e.g. pd.read_csv)\n",
    "\n",
    "# Input data files are available in the read-only \"../input/\" directory\n",
    "# For example, running this (by clicking run or pressing Shift+Enter) will list all files under the input directory\n",
    "\n",
    "import os\n",
    "for dirname, _, filenames in os.walk('/kaggle/input'):\n",
    "    for filename in filenames:\n",
    "        print(os.path.join(dirname, filename))\n",
    "\n",
    "# You can write up to 20GB to the current directory (/kaggle/working/) that gets preserved as output when you create a version using \"Save & Run All\" \n",
    "# You can also write temporary files to /kaggle/temp/, but they won't be saved outside of the current session"
   ]
  },
  {
   "cell_type": "code",
   "execution_count": 2,
   "id": "cb6ed65d",
   "metadata": {
    "execution": {
     "iopub.execute_input": "2024-01-30T12:08:01.281051Z",
     "iopub.status.busy": "2024-01-30T12:08:01.279620Z",
     "iopub.status.idle": "2024-01-30T12:08:01.300111Z",
     "shell.execute_reply": "2024-01-30T12:08:01.298889Z"
    },
    "papermill": {
     "duration": 0.031887,
     "end_time": "2024-01-30T12:08:01.303020",
     "exception": false,
     "start_time": "2024-01-30T12:08:01.271133",
     "status": "completed"
    },
    "tags": []
   },
   "outputs": [],
   "source": [
    "data = pd.read_csv('/kaggle/input/iris/Iris.csv')"
   ]
  },
  {
   "cell_type": "markdown",
   "id": "6156d0bd",
   "metadata": {
    "papermill": {
     "duration": 0.006759,
     "end_time": "2024-01-30T12:08:01.316798",
     "exception": false,
     "start_time": "2024-01-30T12:08:01.310039",
     "status": "completed"
    },
    "tags": []
   },
   "source": [
    "## Basic Statistics\n",
    "\n",
    "### Analysing the data to understand insights\n",
    "\n",
    "\n",
    "Variables and cases\n",
    "\n",
    "\n",
    "Characteristics of football players --> cases\n",
    "\n",
    "1. Body weight \n",
    "2. hair colour\n",
    "3. age\n",
    "4. goal\n",
    "\n",
    "\n",
    "Characteriestics of Team --> cases\n",
    "1. country\n",
    "2. color\n",
    "3. Goals\n",
    "\n"
   ]
  },
  {
   "cell_type": "markdown",
   "id": "2c5b0d52",
   "metadata": {
    "papermill": {
     "duration": 0.00656,
     "end_time": "2024-01-30T12:08:01.330390",
     "exception": false,
     "start_time": "2024-01-30T12:08:01.323830",
     "status": "completed"
    },
    "tags": []
   },
   "source": [
    "##### Variable should vary!!\n",
    "\n",
    "Categorial --> Ordinal & Nominal\n",
    "\n",
    "Quantitative --> Interval & Ratio\n",
    "\n",
    "Quantitative --> Discrete and Continous\n",
    "\n",
    "Data matrix as the summaries of data..\n"
   ]
  },
  {
   "cell_type": "code",
   "execution_count": 3,
   "id": "7c81c2ae",
   "metadata": {
    "execution": {
     "iopub.execute_input": "2024-01-30T12:08:01.346880Z",
     "iopub.status.busy": "2024-01-30T12:08:01.346059Z",
     "iopub.status.idle": "2024-01-30T12:08:01.362459Z",
     "shell.execute_reply": "2024-01-30T12:08:01.361377Z"
    },
    "papermill": {
     "duration": 0.027595,
     "end_time": "2024-01-30T12:08:01.364961",
     "exception": false,
     "start_time": "2024-01-30T12:08:01.337366",
     "status": "completed"
    },
    "tags": []
   },
   "outputs": [
    {
     "data": {
      "text/plain": [
       "0         Iris-setosa\n",
       "1         Iris-setosa\n",
       "2         Iris-setosa\n",
       "3         Iris-setosa\n",
       "4         Iris-setosa\n",
       "            ...      \n",
       "145    Iris-virginica\n",
       "146    Iris-virginica\n",
       "147    Iris-virginica\n",
       "148    Iris-virginica\n",
       "149    Iris-virginica\n",
       "Name: Species, Length: 150, dtype: object"
      ]
     },
     "execution_count": 3,
     "metadata": {},
     "output_type": "execute_result"
    }
   ],
   "source": [
    "data['Species']  # Categorical"
   ]
  },
  {
   "cell_type": "code",
   "execution_count": 4,
   "id": "db113599",
   "metadata": {
    "execution": {
     "iopub.execute_input": "2024-01-30T12:08:01.380952Z",
     "iopub.status.busy": "2024-01-30T12:08:01.380536Z",
     "iopub.status.idle": "2024-01-30T12:08:01.394062Z",
     "shell.execute_reply": "2024-01-30T12:08:01.392966Z"
    },
    "papermill": {
     "duration": 0.024256,
     "end_time": "2024-01-30T12:08:01.396383",
     "exception": false,
     "start_time": "2024-01-30T12:08:01.372127",
     "status": "completed"
    },
    "tags": []
   },
   "outputs": [
    {
     "data": {
      "text/plain": [
       "0      1.4\n",
       "1      1.4\n",
       "2      1.3\n",
       "3      1.5\n",
       "4      1.4\n",
       "      ... \n",
       "145    5.2\n",
       "146    5.0\n",
       "147    5.2\n",
       "148    5.4\n",
       "149    5.1\n",
       "Name: PetalLengthCm, Length: 150, dtype: float64"
      ]
     },
     "execution_count": 4,
     "metadata": {},
     "output_type": "execute_result"
    }
   ],
   "source": [
    "data['PetalLengthCm'] # Numerical"
   ]
  },
  {
   "cell_type": "markdown",
   "id": "6a8a87f5",
   "metadata": {
    "papermill": {
     "duration": 0.007072,
     "end_time": "2024-01-30T12:08:01.411018",
     "exception": false,
     "start_time": "2024-01-30T12:08:01.403946",
     "status": "completed"
    },
    "tags": []
   },
   "source": [
    "##### Frequency tables\n",
    "It shows how the value are distributed\n",
    "\n",
    "\n"
   ]
  },
  {
   "cell_type": "code",
   "execution_count": 5,
   "id": "b9035b15",
   "metadata": {
    "execution": {
     "iopub.execute_input": "2024-01-30T12:08:01.428170Z",
     "iopub.status.busy": "2024-01-30T12:08:01.427365Z",
     "iopub.status.idle": "2024-01-30T12:08:01.440735Z",
     "shell.execute_reply": "2024-01-30T12:08:01.439617Z"
    },
    "papermill": {
     "duration": 0.024618,
     "end_time": "2024-01-30T12:08:01.443146",
     "exception": false,
     "start_time": "2024-01-30T12:08:01.418528",
     "status": "completed"
    },
    "tags": []
   },
   "outputs": [
    {
     "name": "stdout",
     "output_type": "stream",
     "text": [
      "Species\n",
      "Iris-setosa        50\n",
      "Iris-versicolor    50\n",
      "Iris-virginica     50\n",
      "Name: count, dtype: int64\n"
     ]
    }
   ],
   "source": [
    "\n",
    "df = data['Species'].value_counts() \n",
    "print(df) \n"
   ]
  },
  {
   "cell_type": "code",
   "execution_count": 6,
   "id": "d622b220",
   "metadata": {
    "execution": {
     "iopub.execute_input": "2024-01-30T12:08:01.460040Z",
     "iopub.status.busy": "2024-01-30T12:08:01.459339Z",
     "iopub.status.idle": "2024-01-30T12:08:01.493021Z",
     "shell.execute_reply": "2024-01-30T12:08:01.491815Z"
    },
    "papermill": {
     "duration": 0.045005,
     "end_time": "2024-01-30T12:08:01.495637",
     "exception": false,
     "start_time": "2024-01-30T12:08:01.450632",
     "status": "completed"
    },
    "tags": []
   },
   "outputs": [
    {
     "data": {
      "text/html": [
       "<div>\n",
       "<style scoped>\n",
       "    .dataframe tbody tr th:only-of-type {\n",
       "        vertical-align: middle;\n",
       "    }\n",
       "\n",
       "    .dataframe tbody tr th {\n",
       "        vertical-align: top;\n",
       "    }\n",
       "\n",
       "    .dataframe thead th {\n",
       "        text-align: right;\n",
       "    }\n",
       "</style>\n",
       "<table border=\"1\" class=\"dataframe\">\n",
       "  <thead>\n",
       "    <tr style=\"text-align: right;\">\n",
       "      <th>col_0</th>\n",
       "      <th>no_of_species</th>\n",
       "    </tr>\n",
       "    <tr>\n",
       "      <th>Species</th>\n",
       "      <th></th>\n",
       "    </tr>\n",
       "  </thead>\n",
       "  <tbody>\n",
       "    <tr>\n",
       "      <th>Iris-setosa</th>\n",
       "      <td>50</td>\n",
       "    </tr>\n",
       "    <tr>\n",
       "      <th>Iris-versicolor</th>\n",
       "      <td>50</td>\n",
       "    </tr>\n",
       "    <tr>\n",
       "      <th>Iris-virginica</th>\n",
       "      <td>50</td>\n",
       "    </tr>\n",
       "  </tbody>\n",
       "</table>\n",
       "</div>"
      ],
      "text/plain": [
       "col_0            no_of_species\n",
       "Species                       \n",
       "Iris-setosa                 50\n",
       "Iris-versicolor             50\n",
       "Iris-virginica              50"
      ]
     },
     "execution_count": 6,
     "metadata": {},
     "output_type": "execute_result"
    }
   ],
   "source": [
    "\n",
    "freq_table = pd.crosstab(data['Species'], 'no_of_species') \n",
    "\n",
    "freq_table \n"
   ]
  },
  {
   "cell_type": "markdown",
   "id": "feaf593e",
   "metadata": {
    "papermill": {
     "duration": 0.007279,
     "end_time": "2024-01-30T12:08:01.512320",
     "exception": false,
     "start_time": "2024-01-30T12:08:01.505041",
     "status": "completed"
    },
    "tags": []
   },
   "source": [
    "Pie chart - Nominal or Ordinal\n",
    "\n",
    "\n",
    "Bar chart -  Nominal or Ordinal\n",
    "\n",
    "\n",
    "Dot plot - Quantitative\n",
    "\n",
    "\n",
    "Histogram - Interval or Ratio\n"
   ]
  },
  {
   "cell_type": "markdown",
   "id": "1c123a19",
   "metadata": {
    "papermill": {
     "duration": 0.00724,
     "end_time": "2024-01-30T12:08:01.527105",
     "exception": false,
     "start_time": "2024-01-30T12:08:01.519865",
     "status": "completed"
    },
    "tags": []
   },
   "source": [
    "##### Measure of Central dentency\n",
    "\n",
    "1. Median,-- Quantitative with Outliers or Skewed\n",
    "\n",
    "2. Mode, -- Categorical\n",
    "\n",
    "3. Mean, -- Quantitative with Bell curve\n",
    "\n",
    "##### Measure of dispersion\n",
    " \n",
    "Range, -- Maximum - Minimum\n",
    "\n",
    "IQR, -- Q3 - Q1      Outlier = Q1 or Q3 (+ or _) 1.5 IQR\n",
    "\n",
    "###### takes all values into account\n",
    "\n",
    "Variance, --     (x - x~ ) 2 / n-1   --> larger the variance larger the variablity\n",
    "\n",
    "Standard deviation, --  Sq. Root of ((x - x~ ) 2 / n-1)  --> often used measure of dispersion"
   ]
  },
  {
   "cell_type": "code",
   "execution_count": null,
   "id": "8cc0ee0b",
   "metadata": {
    "papermill": {
     "duration": 0.007216,
     "end_time": "2024-01-30T12:08:01.541843",
     "exception": false,
     "start_time": "2024-01-30T12:08:01.534627",
     "status": "completed"
    },
    "tags": []
   },
   "outputs": [],
   "source": []
  },
  {
   "cell_type": "markdown",
   "id": "4a67e938",
   "metadata": {
    "papermill": {
     "duration": 0.007345,
     "end_time": "2024-01-30T12:08:01.556781",
     "exception": false,
     "start_time": "2024-01-30T12:08:01.549436",
     "status": "completed"
    },
    "tags": []
   },
   "source": [
    "#### Z Score - \n",
    "##### gives idea if an event is common or exceptional\n",
    "\n",
    "###### Z = x - x~  / SD\n",
    "\n",
    "1. -ve z score reprents below the mean\n",
    "2. +ve z score Above the mean\n",
    "\n",
    "Normal distribution - Z scores are 68% -1 or +1...   95% -2 to +2  and  99% -3 to +3 \n",
    "\n",
    "Skewed Right - large Positive Z scores are common\n",
    "\n",
    "Skewed Left - large Negative Z scores are common\n",
    "\n",
    "\n",
    "Z score of -1 to 1 = 75%\n",
    "\n",
    "Z score of -2 to +2 = 90%\n",
    "\n",
    "\n",
    "\n",
    "##### Standardization:\n",
    "\n",
    "Replacing the orihinal scores with SD from the mean.."
   ]
  },
  {
   "cell_type": "markdown",
   "id": "321eb876",
   "metadata": {
    "papermill": {
     "duration": 0.007278,
     "end_time": "2024-01-30T12:08:01.571973",
     "exception": false,
     "start_time": "2024-01-30T12:08:01.564695",
     "status": "completed"
    },
    "tags": []
   },
   "source": [
    "#### Correlation\n",
    "\n",
    "Correlation\n",
    "- Strong, Weak,Perfect\n",
    "- Positive & Negative\n",
    "- Linear & curvi-linear\n",
    "\n",
    "##### Crosstabs \n",
    "> is a Contingency table in case of Ordinal\n",
    "\n",
    "###### eg: body weight vs chocolate consumption\n",
    "\n",
    "##### Scatterplot\n",
    "> is a dot plot represented between two varibles\n",
    "\n",
    "#### Pearsons R (-1 to +1)\n",
    "\n",
    "> Direction and strength of Linear Correlation with one another\n",
    "\n",
    "> No Linear = No Pearson\n",
    "\n",
    "Positive --  Positive Correlation\n",
    "\n",
    "Negative -- Negative correlation \n",
    "\n",
    "Sumation of (Zx* Zy) / n-1\n",
    "\n"
   ]
  },
  {
   "cell_type": "markdown",
   "id": "bc205b4b",
   "metadata": {
    "papermill": {
     "duration": 0.007271,
     "end_time": "2024-01-30T12:08:01.586798",
     "exception": false,
     "start_time": "2024-01-30T12:08:01.579527",
     "status": "completed"
    },
    "tags": []
   },
   "source": [
    "#### Regression\n",
    "##### the best fitting line\n",
    "- is the line for which the sum of the squared residuals (vertical distances of the cases in your scatterplot to the line) is the smallest.\n",
    "\n",
    "##### ordinary least squares (OLS) regression.\n",
    "\n",
    "- the regression equation \n",
    "- the regression coefficient and \n",
    "- the regression slope.\n",
    "\n",
    "##### R- Squared\n",
    "- It tells you how much better a regression line predicts your dependent variable than the mean of that variable, and \n",
    "- it shows you how much of the variance in your dependent variable is explained by your independent variable.\n",
    "\n",
    "\n",
    "\n"
   ]
  },
  {
   "cell_type": "markdown",
   "id": "3c07deb0",
   "metadata": {
    "papermill": {
     "duration": 0.007866,
     "end_time": "2024-01-30T12:08:01.602231",
     "exception": false,
     "start_time": "2024-01-30T12:08:01.594365",
     "status": "completed"
    },
    "tags": []
   },
   "source": [
    "##### How to find the regression line:\n",
    "\n",
    "Line with sum of the squared residuals is less\n",
    "\n",
    "\n",
    "\n",
    "##### Regression line\n",
    "\n",
    "> > #### y = bx + a\n",
    "\n",
    "a --> intercept( where the line intercepts y axis when y = 0)\n",
    "\n",
    "b --> Slope of the line\n",
    "\n",
    "Y can be predicted if a and b are calculated for any given x value\n",
    "\n",
    "\n",
    "\n",
    "\n",
    "\n"
   ]
  },
  {
   "cell_type": "markdown",
   "id": "d21c9e4a",
   "metadata": {
    "papermill": {
     "duration": 0.007319,
     "end_time": "2024-01-30T12:08:01.617179",
     "exception": false,
     "start_time": "2024-01-30T12:08:01.609860",
     "status": "completed"
    },
    "tags": []
   },
   "source": [
    "#### If means and SDs of variable are given.\n",
    "\n",
    "> ##### b = r (SDy - SDx)\n",
    "\n",
    "> ##### a = y~ - b~x\n",
    "\n",
    "\n",
    "###### Regression Co-efficient --> Pearson R  correlated\n",
    "\n"
   ]
  },
  {
   "cell_type": "markdown",
   "id": "e3cb250b",
   "metadata": {
    "papermill": {
     "duration": 0.0073,
     "end_time": "2024-01-30T12:08:01.632122",
     "exception": false,
     "start_time": "2024-01-30T12:08:01.624822",
     "status": "completed"
    },
    "tags": []
   },
   "source": [
    "\n",
    "#### How Good the line is ?\n",
    "\n",
    "Goodness fit of a Regression line\n",
    "\n",
    "##### R squared - \n",
    "- Amount of variance in Y explained by the varible X.\n",
    "\n",
    "- A Number tells how much a regression line predicts the value of a dependent variable than the mean of the variable.\n",
    "\n",
    "\n",
    "\n",
    "In a Regression -- A horizontal line can give mean of the y varible\n",
    "\n",
    "\n",
    "Pearsons r --> Squared = R Squared\n",
    "\n",
    "\n"
   ]
  },
  {
   "cell_type": "markdown",
   "id": "74f2b309",
   "metadata": {
    "papermill": {
     "duration": 0.00737,
     "end_time": "2024-01-30T12:08:01.647781",
     "exception": false,
     "start_time": "2024-01-30T12:08:01.640411",
     "status": "completed"
    },
    "tags": []
   },
   "source": [
    "#### Caveats and Examples\n",
    "- \n",
    "###### Correlation is not Causation ( Causal Relationship)\n",
    "- \n",
    "###### Confounding variable can be present\n",
    "- \n",
    "###### Outliers can affect the Results"
   ]
  },
  {
   "cell_type": "markdown",
   "id": "49791f00",
   "metadata": {
    "papermill": {
     "duration": 0.00731,
     "end_time": "2024-01-30T12:08:01.662667",
     "exception": false,
     "start_time": "2024-01-30T12:08:01.655357",
     "status": "completed"
    },
    "tags": []
   },
   "source": [
    "##### NOT Causation :\n",
    "\n",
    "    One varible cannot be the cause of the other variable.\n",
    "    \n",
    "##### COnfounding Variable    \n",
    "    Genetics causing the Body weight their by incresing the food consumption.  Genetics is confounding variable.\n",
    "    \n",
    "    Alt examp: Corruption causing income inequality and Political discontent. COrruption is Counfounding variable.\n",
    "    \n",
    "##### Outliers\n",
    "    Person with less weight eating unimaginabily more chocolates.\n",
    "    "
   ]
  },
  {
   "cell_type": "markdown",
   "id": "65e6c6b6",
   "metadata": {
    "papermill": {
     "duration": 0.007394,
     "end_time": "2024-01-30T12:08:01.677497",
     "exception": false,
     "start_time": "2024-01-30T12:08:01.670103",
     "status": "completed"
    },
    "tags": []
   },
   "source": [
    "#### Randomness & Probability\n",
    "\n",
    "\n",
    "##### Gamblers fellacy  --\n",
    "Past random patter giving out Future Random Patterns   NO\n",
    "\n",
    "4 consecutive dice rolling of 6 will give you an impression another 6 is highly probable but it only has 1/6.\n",
    "\n",
    "\n",
    "\n"
   ]
  },
  {
   "cell_type": "markdown",
   "id": "48ed6542",
   "metadata": {
    "papermill": {
     "duration": 0.007164,
     "end_time": "2024-01-30T12:08:01.692286",
     "exception": false,
     "start_time": "2024-01-30T12:08:01.685122",
     "status": "completed"
    },
    "tags": []
   },
   "source": [
    "> Irregularity with small sample is common\n",
    "\n",
    "> Large samples will get you closer to the expected value\n",
    "\n",
    "\n",
    "#### Probability \n",
    "- way to quantify Randomness\n",
    "- between 0 to 1\n",
    "- sum equals 1\n",
    "\n",
    "##### Terms to remember\n",
    "\n",
    "- Experiement\n",
    "- Event\n",
    "- Independent trial\n",
    "- Relative Frequency\n",
    "- Law of Large Numbers\n",
    "\n"
   ]
  },
  {
   "cell_type": "markdown",
   "id": "6c597533",
   "metadata": {
    "papermill": {
     "duration": 0.007434,
     "end_time": "2024-01-30T12:08:01.707239",
     "exception": false,
     "start_time": "2024-01-30T12:08:01.699805",
     "status": "completed"
    },
    "tags": []
   },
   "source": [
    "#### Sample space, events & tree diagrams"
   ]
  },
  {
   "cell_type": "code",
   "execution_count": null,
   "id": "6cf77ecf",
   "metadata": {
    "papermill": {
     "duration": 0.007181,
     "end_time": "2024-01-30T12:08:01.722274",
     "exception": false,
     "start_time": "2024-01-30T12:08:01.715093",
     "status": "completed"
    },
    "tags": []
   },
   "outputs": [],
   "source": []
  }
 ],
 "metadata": {
  "kaggle": {
   "accelerator": "none",
   "dataSources": [
    {
     "datasetId": 19,
     "sourceId": 420,
     "sourceType": "datasetVersion"
    }
   ],
   "dockerImageVersionId": 30635,
   "isGpuEnabled": false,
   "isInternetEnabled": true,
   "language": "python",
   "sourceType": "notebook"
  },
  "kernelspec": {
   "display_name": "Python 3",
   "language": "python",
   "name": "python3"
  },
  "language_info": {
   "codemirror_mode": {
    "name": "ipython",
    "version": 3
   },
   "file_extension": ".py",
   "mimetype": "text/x-python",
   "name": "python",
   "nbconvert_exporter": "python",
   "pygments_lexer": "ipython3",
   "version": "3.10.12"
  },
  "papermill": {
   "default_parameters": {},
   "duration": 5.806179,
   "end_time": "2024-01-30T12:08:02.250309",
   "environment_variables": {},
   "exception": null,
   "input_path": "__notebook__.ipynb",
   "output_path": "__notebook__.ipynb",
   "parameters": {},
   "start_time": "2024-01-30T12:07:56.444130",
   "version": "2.4.0"
  }
 },
 "nbformat": 4,
 "nbformat_minor": 5
}
